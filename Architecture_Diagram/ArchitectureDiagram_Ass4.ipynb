{
 "cells": [
  {
   "cell_type": "code",
   "execution_count": 71,
   "metadata": {},
   "outputs": [],
   "source": [
    "from diagrams import Diagram, Cluster, Edge\n",
    "from diagrams.aws.storage import S3\n",
    "from diagrams.onprem.client import Users\n",
    "from diagrams.programming.language import Python\n",
    "from diagrams.custom import Custom\n",
    "from diagrams.generic.blank import Blank\n",
    "\n",
    "with Diagram(\"AI Application Data Pipeline LLMs\", show=False, direction=\"TB\"):\n",
    "    user = Users(\"User\")\n",
    "    \n",
    "    with Cluster(\"API & User Interface\\n\\n\"):\n",
    "        fastapi = Python(\"FastAPI\")\n",
    "        streamlit_ui = Custom(\"Streamlit\", \"./streamlit.png\")\n",
    "    \n",
    "    \n",
    "    with Cluster(\"\\nData Ingestion - PDF Scraping\\n\\n\"):\n",
    "        pdf_parser = Custom(\"PyMuPDF\", \"./pymupdf.png\")\n",
    "                    \n",
    "    with Cluster(\"\\n\\tStorage\"):\n",
    "        s3_bucket = S3(\"AWS S3\")\n",
    "\n",
    "    with Cluster(\"\\t\\t\\t\\tLLM Integration\"):\n",
    "            redis_streams = Custom(\"Redis Streams\", \"./redis.png\")\n",
    "            gpt4o = Custom(\"GPT-4o\", \"./gpt.png\")\n",
    "            gemini_flash = Custom(\"Gemini-Flash\", \"./gemini.png\")\n",
    "            deepseek = Custom(\"DeepSeek\", \"./deepseek.png\")\n",
    "            claude = Custom(\"Claude\", \"./claude.png\")\n",
    "            grok = Custom(\"Grok\", \"./grok.png\")\n",
    "    \n",
    "    user >> Edge() >> streamlit_ui\n",
    "    streamlit_ui >> Edge(minlen=\"2\") >> fastapi\n",
    "    fastapi >> Edge() >> pdf_parser\n",
    "    pdf_parser >> Edge() >> s3_bucket\n",
    "    s3_bucket >> Edge() >> fastapi\n",
    "\n",
    "    fastapi >> Edge() >> redis_streams\n",
    "    redis_streams >> Edge() >> [gpt4o, gemini_flash, deepseek, claude, grok]\n",
    "    [gpt4o, gemini_flash, deepseek, claude, grok] >> Edge() >> redis_streams >> fastapi >> streamlit_ui"
   ]
  }
 ],
 "metadata": {
  "kernelspec": {
   "display_name": ".venv",
   "language": "python",
   "name": "python3"
  },
  "language_info": {
   "codemirror_mode": {
    "name": "ipython",
    "version": 3
   },
   "file_extension": ".py",
   "mimetype": "text/x-python",
   "name": "python",
   "nbconvert_exporter": "python",
   "pygments_lexer": "ipython3",
   "version": "3.13.1"
  }
 },
 "nbformat": 4,
 "nbformat_minor": 2
}
